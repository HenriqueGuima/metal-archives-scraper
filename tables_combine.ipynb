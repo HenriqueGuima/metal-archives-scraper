{
 "cells": [
  {
   "cell_type": "code",
   "execution_count": 30,
   "metadata": {},
   "outputs": [
    {
     "name": "stderr",
     "output_type": "stream",
     "text": [
      "C:\\Users\\lmars\\AppData\\Local\\Temp\\ipykernel_19272\\3389100058.py:3: DtypeWarning: Columns (0) have mixed types. Specify dtype option on import or set low_memory=False.\n",
      "  metal_bands = pd.read_csv('metal_bands.csv')\n"
     ]
    },
    {
     "name": "stdout",
     "output_type": "stream",
     "text": [
      "COMPLETE ROSTER       Band ID                Name_x  \\\n",
      "0  3540442600         A // Solution   \n",
      "1  3540525193  A Black Cold Diamond   \n",
      "2  3540473101       A Billion Limbs   \n",
      "3  3540535978      A Band Named Jon   \n",
      "4  3540352307    A Balance of Power   \n",
      "\n",
      "                                                 URL       Country_x  \\\n",
      "0  https://www.metal-archives.com/bands/A_--_Solu...   United States   \n",
      "1  https://www.metal-archives.com/bands/A_Black_C...        Colombia   \n",
      "2  https://www.metal-archives.com/bands/A_Billion...  United Kingdom   \n",
      "3  https://www.metal-archives.com/bands/A_Band_Na...   United States   \n",
      "4  https://www.metal-archives.com/bands/A_Balance...   United States   \n",
      "\n",
      "                           Genre  Status_x  \\\n",
      "0        Crust Punk/Thrash Metal  Split-up   \n",
      "1               Heavy/Doom Metal    Active   \n",
      "2         Groove Metal/Deathcore    Active   \n",
      "3   Brutal Death Metal/Grindcore    Active   \n",
      "4  Melodic Death Metal/Metalcore    Active   \n",
      "\n",
      "                                           Photo_URL  Label ID  \\\n",
      "0                                                NaN       NaN   \n",
      "1  https://www.metal-archives.com/images/3/5/4/0/...   54710.0   \n",
      "2                                                NaN       NaN   \n",
      "3  https://www.metal-archives.com/images/3/5/4/0/...   62768.0   \n",
      "4  https://www.metal-archives.com/images/3/5/4/0/...       NaN   \n",
      "\n",
      "                 Name_y             Specialization Status_y      Country_y  \\\n",
      "0                   NaN                        NaN      NaN            NaN   \n",
      "1  Archetype Recordings  Doom / Experimental Metal   active       Colombia   \n",
      "2                   NaN                        NaN      NaN            NaN   \n",
      "3    Skullcrush Records                        NaN   active  United States   \n",
      "4                   NaN                        NaN      NaN            NaN   \n",
      "\n",
      "                                         Website Online Shopping  \n",
      "0                                            NaN             NaN  \n",
      "1  https://metalarchetyperecordings.bandcamp.com             NaN  \n",
      "2                                            NaN             NaN  \n",
      "3                                            NaN             NaN  \n",
      "4                                            NaN             NaN  \n"
     ]
    }
   ],
   "source": [
    "import pandas as pd\n",
    "\n",
    "metal_bands = pd.read_csv('metal_bands.csv')\n",
    "labels = pd.read_csv('labels/labels.csv')\n",
    "roster = pd.read_csv('labels_rosters/combined_roster.csv')\n",
    "\n",
    "metal_bands_roster = pd.merge(metal_bands, roster, on='Band ID', how='left')\n",
    "labels_roster = pd.merge(roster, labels, on='Label ID', how='left')\n",
    "complete_roster = pd.merge(metal_bands_roster, labels, on='Label ID', how='left')\n",
    "\n",
    "metal_bands_roster.to_csv('metal_bands_roster.csv', index=False)\n",
    "labels_roster.to_csv('labels_roster.csv', index=False)\n",
    "complete_roster.to_csv('complete_roster.csv', index=False)\n",
    "\n",
    "# print('METAL BANDS ROSTER', metal_bands_roster.head())\n",
    "# print('LABELS ROSTER', labels_roster.head())\n",
    "print('COMPLETE ROSTER', complete_roster.head())\n"
   ]
  }
 ],
 "metadata": {
  "kernelspec": {
   "display_name": "Python 3",
   "language": "python",
   "name": "python3"
  },
  "language_info": {
   "codemirror_mode": {
    "name": "ipython",
    "version": 3
   },
   "file_extension": ".py",
   "mimetype": "text/x-python",
   "name": "python",
   "nbconvert_exporter": "python",
   "pygments_lexer": "ipython3",
   "version": "3.11.5"
  }
 },
 "nbformat": 4,
 "nbformat_minor": 2
}
