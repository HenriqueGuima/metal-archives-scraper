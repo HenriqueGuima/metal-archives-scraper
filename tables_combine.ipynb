{
 "cells": [
  {
   "cell_type": "code",
   "execution_count": null,
   "metadata": {},
   "outputs": [
    {
     "name": "stderr",
     "output_type": "stream",
     "text": [
      "C:\\Users\\lmars\\AppData\\Local\\Temp\\ipykernel_19272\\1563321341.py:6: DtypeWarning: Columns (0) have mixed types. Specify dtype option on import or set low_memory=False.\n",
      "  metal_bands = pd.read_csv('metal_bands.csv')\n"
     ]
    },
    {
     "name": "stdout",
     "output_type": "stream",
     "text": [
      "METAL BANDS ROSTER       Band ID                  Name  \\\n",
      "0  3540442600         A // Solution   \n",
      "1  3540525193  A Black Cold Diamond   \n",
      "2  3540473101       A Billion Limbs   \n",
      "3  3540535978      A Band Named Jon   \n",
      "4  3540352307    A Balance of Power   \n",
      "\n",
      "                                                 URL         Country  \\\n",
      "0  https://www.metal-archives.com/bands/A_--_Solu...   United States   \n",
      "1  https://www.metal-archives.com/bands/A_Black_C...        Colombia   \n",
      "2  https://www.metal-archives.com/bands/A_Billion...  United Kingdom   \n",
      "3  https://www.metal-archives.com/bands/A_Band_Na...   United States   \n",
      "4  https://www.metal-archives.com/bands/A_Balance...   United States   \n",
      "\n",
      "                           Genre    Status  \\\n",
      "0        Crust Punk/Thrash Metal  Split-up   \n",
      "1               Heavy/Doom Metal    Active   \n",
      "2         Groove Metal/Deathcore    Active   \n",
      "3   Brutal Death Metal/Grindcore    Active   \n",
      "4  Melodic Death Metal/Metalcore    Active   \n",
      "\n",
      "                                           Photo_URL  Label ID  \n",
      "0                                                NaN       NaN  \n",
      "1  https://www.metal-archives.com/images/3/5/4/0/...   54710.0  \n",
      "2                                                NaN       NaN  \n",
      "3  https://www.metal-archives.com/images/3/5/4/0/...   62768.0  \n",
      "4  https://www.metal-archives.com/images/3/5/4/0/...       NaN  \n",
      "LABELS ROSTER    Label ID     Band ID                       Name Specialization  Status  \\\n",
      "0     61551  3540530132        A for Aleph Records            NaN  active   \n",
      "1     61551  3540527033        A for Aleph Records            NaN  active   \n",
      "2     32435      129147               A & R Select            NaN  active   \n",
      "3     12266       41130           A da FRAN Discos    Heavy Metal  closed   \n",
      "4     38708  3540416637  A Fine Day to Die Records    Black Metal  active   \n",
      "\n",
      "         Country                     Website Online Shopping  \n",
      "0       Pakistan  https://www.aforaleph.com/             Yes  \n",
      "1       Pakistan  https://www.aforaleph.com/             Yes  \n",
      "2  United States                         NaN             NaN  \n",
      "3         Brazil                         NaN             NaN  \n",
      "4          Spain                         NaN             NaN  \n"
     ]
    }
   ],
   "source": [
    "import pandas as pd\n",
    "\n",
    "metal_bands = pd.read_csv('metal_bands.csv')\n",
    "labels = pd.read_csv('labels/labels.csv')\n",
    "roster = pd.read_csv('labels_rosters/combined_roster.csv')\n",
    "\n",
    "metal_bands_roster = pd.merge(metal_bands, roster, on='Band ID', how='left')\n",
    "labels_roster = pd.merge(roster, labels, on='Label ID', how='left')\n",
    "\n",
    "metal_bands_roster.to_csv('metal_bands_roster.csv', index=False)\n",
    "labels_roster.to_csv('labels_roster.csv', index=False)\n",
    "\n",
    "print('METAL BANDS ROSTER', metal_bands_roster.head())\n",
    "print('LABELS ROSTER', labels_roster.head())\n"
   ]
  }
 ],
 "metadata": {
  "kernelspec": {
   "display_name": "Python 3",
   "language": "python",
   "name": "python3"
  },
  "language_info": {
   "codemirror_mode": {
    "name": "ipython",
    "version": 3
   },
   "file_extension": ".py",
   "mimetype": "text/x-python",
   "name": "python",
   "nbconvert_exporter": "python",
   "pygments_lexer": "ipython3",
   "version": "3.11.5"
  }
 },
 "nbformat": 4,
 "nbformat_minor": 2
}
