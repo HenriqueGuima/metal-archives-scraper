{
 "cells": [
  {
   "cell_type": "code",
   "execution_count": 20,
   "metadata": {},
   "outputs": [
    {
     "name": "stdout",
     "output_type": "stream",
     "text": [
      "METAL BANDS ROSTER       Band ID                Name  \\\n",
      "0  3540442600       A // Solution   \n",
      "1  3540480258  A 12 Gauge Tragedy   \n",
      "2  3540352307  A Balance of Power   \n",
      "3  3540535978    A Band Named Jon   \n",
      "4      108513      A Band of Orcs   \n",
      "\n",
      "                                                 URL        Country  \\\n",
      "0  https://www.metal-archives.com/bands/A_--_Solu...  United States   \n",
      "1  https://www.metal-archives.com/bands/A_12_Gaug...  United States   \n",
      "2  https://www.metal-archives.com/bands/A_Balance...  United States   \n",
      "3  https://www.metal-archives.com/bands/A_Band_Na...  United States   \n",
      "4  https://www.metal-archives.com/bands/A_Band_of...  United States   \n",
      "\n",
      "                           Genre    Status Photo_URL  Label ID  \n",
      "0        Crust Punk/Thrash Metal  Split-up       NaN       NaN  \n",
      "1                      Deathcore  Split-up       NaN       NaN  \n",
      "2  Melodic Death Metal/Metalcore    Active       NaN       NaN  \n",
      "3   Brutal Death Metal/Grindcore    Active       NaN       NaN  \n",
      "4             Death/Thrash Metal    Active       NaN       NaN  \n",
      "LABELS ROSTER    Label ID     Band ID                       Name Specialization  Status  \\\n",
      "0     61551  3540530132        A for Aleph Records            NaN  active   \n",
      "1     61551  3540527033        A for Aleph Records            NaN  active   \n",
      "2     38708  3540416637  A Fine Day to Die Records    Black Metal  active   \n",
      "3     38708  3540432080  A Fine Day to Die Records    Black Metal  active   \n",
      "4     12266       41130           A da FRAN Discos    Heavy Metal  closed   \n",
      "\n",
      "    Country                     Website Online Shopping  \n",
      "0  Pakistan  https://www.aforaleph.com/             Yes  \n",
      "1  Pakistan  https://www.aforaleph.com/             Yes  \n",
      "2     Spain                         NaN             NaN  \n",
      "3     Spain                         NaN             NaN  \n",
      "4    Brazil                         NaN             NaN  \n"
     ]
    }
   ],
   "source": [
    "import pandas as pd\n",
    "\n",
    "# Load the CSV files\n",
    "metal_bands = pd.read_csv('metal_bands.csv')\n",
    "labels = pd.read_csv('labels/labels.csv')\n",
    "roster = pd.read_csv('labels_rosters/combined_roster.csv')\n",
    "\n",
    "# Merge to create the metal_bands_roster with a left join\n",
    "metal_bands_roster = pd.merge(metal_bands, roster, on='Band ID', how='left')\n",
    "\n",
    "# You might also want to merge labels with roster if necessary\n",
    "labels_roster = pd.merge(roster, labels, on='Label ID', how='left')\n",
    "\n",
    "# Save the new DataFrames to CSV files\n",
    "metal_bands_roster.to_csv('metal_bands_roster.csv', index=False)\n",
    "labels_roster.to_csv('labels_roster.csv', index=False)\n",
    "\n",
    "# Print the first few rows of the new DataFrames\n",
    "print('METAL BANDS ROSTER', metal_bands_roster.head())\n",
    "print('LABELS ROSTER', labels_roster.head())\n"
   ]
  }
 ],
 "metadata": {
  "kernelspec": {
   "display_name": "Python 3",
   "language": "python",
   "name": "python3"
  },
  "language_info": {
   "codemirror_mode": {
    "name": "ipython",
    "version": 3
   },
   "file_extension": ".py",
   "mimetype": "text/x-python",
   "name": "python",
   "nbconvert_exporter": "python",
   "pygments_lexer": "ipython3",
   "version": "3.11.5"
  }
 },
 "nbformat": 4,
 "nbformat_minor": 2
}
